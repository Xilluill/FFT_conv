{
 "cells": [
  {
   "cell_type": "code",
   "execution_count": null,
   "metadata": {},
   "outputs": [],
   "source": [
    "import cv2\n",
    "import numpy as np\n",
    "import matplotlib.pyplot as plt\n",
    "import time\n",
    "from utils import *\n",
    "import scipy\n",
    "print(cv2.__path__)"
   ]
  },
  {
   "cell_type": "code",
   "execution_count": null,
   "metadata": {},
   "outputs": [],
   "source": [
    "def time_domain_convolution(image, kernel):\n",
    "    start_time = time.time()\n",
    "    # Perform time domain convolution\n",
    "    result = TimeDomainConvolution(image, kernel)\n",
    "    # Your implementation here\n",
    "    elapsed_time = time.time() - start_time\n",
    "    return elapsed_time, result\n",
    "def filter2d_convolution(image, kernel):\n",
    "    start_time = time.time()\n",
    "    # Perform time domain convolution\n",
    "    result = filter2d(image, kernel)\n",
    "    # Your implementation here\n",
    "    elapsed_time = time.time() - start_time\n",
    "    return elapsed_time, result\n",
    "def frequency_domain_convolution(image, kernel):\n",
    "    start_time = time.time()\n",
    "    # result = image\n",
    "    result = fft_convolve2d(image, kernel,is_show=False)\n",
    "    # Perform frequency domain convolution\n",
    "    # Your implementation here\n",
    "    elapsed_time = time.time() - start_time\n",
    "    return elapsed_time, result\n",
    "def scipy_fft_convolution(image, kernel):\n",
    "    dim = len(image.shape)\n",
    "    if dim == 3:\n",
    "        kernel = np.expand_dims(kernel, 2).repeat(3, axis=2)\n",
    "    start_time = time.time()\n",
    "    # Perform time domain convolution\n",
    "    result = scipy.signal.convolve(image, kernel, mode='same',method='fft').astype(np.uint8)\n",
    "    # Your implementation here\n",
    "    elapsed_time = time.time() - start_time\n",
    "    return elapsed_time, result\n",
    "def scipy_tb_convolution(image, kernel):\n",
    "    dim = len(image.shape)\n",
    "    if dim == 3:\n",
    "        kernel = np.expand_dims(kernel, 2).repeat(3, axis=2)\n",
    "    start_time = time.time()\n",
    "    # Perform time domain convolution\n",
    "    result = scipy.signal.convolve(image, kernel, mode='same',method='direct').astype(np.uint8)\n",
    "    # Your implementation here\n",
    "    elapsed_time = time.time() - start_time\n",
    "    return elapsed_time, result"
   ]
  },
  {
   "cell_type": "code",
   "execution_count": null,
   "metadata": {},
   "outputs": [],
   "source": [
    "# Load the image\n",
    "image_path = \"test_img/IMG_20220704_075206.jpg\"\n",
    "ori_image = cv2.imread(image_path)\n",
    "image = cv2.resize(ori_image, (2048,2048))\n",
    "image_size=(360,360)\n",
    "re_image = cv2.resize(ori_image, image_size)\n",
    "# Define the kernel sizes to test\n",
    "kernel_sizes = range(3, 359, 2)  # Test kernel sizes from 3x3 to 10x10, with step size 2\n",
    "time_domain_times = []\n",
    "frequency_domain_times = []"
   ]
  },
  {
   "cell_type": "code",
   "execution_count": null,
   "metadata": {
    "notebookRunGroups": {
     "groupValue": ""
    }
   },
   "outputs": [],
   "source": [
    "# Perform convolution for each kernel size\n",
    "for kernel_size in kernel_sizes:\n",
    "    #根据kernel_size生成高斯核\n",
    "    #kernel = np.ones((kernel_size, kernel_size)) / kernel_size**2\n",
    "\n",
    "    kernel =cv2.getGaussianKernel(kernel_size, 0)\n",
    "    kernel = np.dot(kernel, kernel.T)\n",
    "    time_domain_time, time_domain_result = filter2d_convolution(image, kernel)\n",
    "    print(\"Kernel size: {}, Time domain: {:.4f} s\".format(kernel_size, time_domain_time))\n",
    "    time_domain_times.append(time_domain_time)\n",
    "for kernel_size in kernel_sizes:\n",
    "    #根据kernel_size生成高斯核\n",
    "    #kernel = np.ones((kernel_size, kernel_size)) / kernel_size**2\n",
    "    kernel =cv2.getGaussianKernel(kernel_size, 0)\n",
    "    kernel = np.dot(kernel, kernel.T)\n",
    "    frequency_domain_time, frequency_domain_result = scipy_fft_convolution(re_image, kernel)\n",
    "    print(\"Kernel size: {}, Frequency domain: {:.4f} s\".format(kernel_size, frequency_domain_time))\n",
    "    frequency_domain_times.append(frequency_domain_time)"
   ]
  },
  {
   "cell_type": "code",
   "execution_count": null,
   "metadata": {},
   "outputs": [],
   "source": [
    "# Plot the results\n",
    "plt.figure()\n",
    "plt.plot(kernel_sizes, time_domain_times, label='opencv filter Convolution')\n",
    "plt.plot(kernel_sizes, frequency_domain_times, label='scipyfft Convolution')\n",
    "plt.xlabel('Kernel Size')\n",
    "plt.ylabel('Time (s)')\n",
    "plt.title(str(image_size)+'Performance Comparison')\n",
    "plt.legend()\n",
    "plt.show()"
   ]
  },
  {
   "cell_type": "code",
   "execution_count": null,
   "metadata": {},
   "outputs": [],
   "source": []
  },
  {
   "cell_type": "code",
   "execution_count": null,
   "metadata": {},
   "outputs": [],
   "source": []
  },
  {
   "cell_type": "code",
   "execution_count": null,
   "metadata": {},
   "outputs": [],
   "source": []
  },
  {
   "cell_type": "code",
   "execution_count": null,
   "metadata": {},
   "outputs": [],
   "source": []
  },
  {
   "cell_type": "markdown",
   "metadata": {},
   "source": []
  }
 ],
 "metadata": {
  "kernelspec": {
   "display_name": "ocr",
   "language": "python",
   "name": "python3"
  },
  "language_info": {
   "codemirror_mode": {
    "name": "ipython",
    "version": 3
   },
   "file_extension": ".py",
   "mimetype": "text/x-python",
   "name": "python",
   "nbconvert_exporter": "python",
   "pygments_lexer": "ipython3",
   "version": "3.8.15"
  }
 },
 "nbformat": 4,
 "nbformat_minor": 2
}
